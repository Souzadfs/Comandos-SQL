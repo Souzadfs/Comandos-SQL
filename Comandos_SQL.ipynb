{
  "nbformat": 4,
  "nbformat_minor": 0,
  "metadata": {
    "colab": {
      "provenance": [],
      "authorship_tag": "ABX9TyO6+dxMBL43QLwrI2O/huF0",
      "include_colab_link": true
    },
    "kernelspec": {
      "name": "python3",
      "display_name": "Python 3"
    },
    "language_info": {
      "name": "python"
    }
  },
  "cells": [
    {
      "cell_type": "markdown",
      "metadata": {
        "id": "view-in-github",
        "colab_type": "text"
      },
      "source": [
        "<a href=\"https://colab.research.google.com/github/Souzadfs/Comandos-SQL/blob/main/Comandos_SQL.ipynb\" target=\"_parent\"><img src=\"https://colab.research.google.com/assets/colab-badge.svg\" alt=\"Open In Colab\"/></a>"
      ]
    },
    {
      "cell_type": "markdown",
      "source": [
        "# Comando **Join**"
      ],
      "metadata": {
        "id": "SyS_zst4k7iT"
      }
    },
    {
      "cell_type": "code",
      "execution_count": null,
      "metadata": {
        "id": "phlYn_m8klnv"
      },
      "outputs": [],
      "source": [
        "SELECT primeiro_nome, ultimo_nome,\n",
        "pessoas.sigla_estado, nome_estado\n",
        "FROM pessoas\n",
        "INNER JOIN estados\n",
        "ON pessoas.sigla_estado = estados.sigla_estado"
      ]
    },
    {
      "cell_type": "markdown",
      "source": [
        "# Comando utilizando **Right Join**"
      ],
      "metadata": {
        "id": "YIemd-ouocJ-"
      }
    },
    {
      "cell_type": "code",
      "source": [
        "SELECT *\n",
        "FROM pessoas\n",
        "RIGHT JOIN estados\n",
        "ON pessoas.sigla_estado = estados.sigla_estado"
      ],
      "metadata": {
        "id": "58kxM7R9odIe"
      },
      "execution_count": null,
      "outputs": []
    },
    {
      "cell_type": "markdown",
      "source": [
        "Comando utilizando **Left Join**"
      ],
      "metadata": {
        "id": "E3wtttBkoox-"
      }
    },
    {
      "cell_type": "code",
      "source": [
        "SELECT *\n",
        "FROM pessoas\n",
        "LEFT JOIN estados\n",
        "ON pessoas.sigla_estado = estados.sigla_estado"
      ],
      "metadata": {
        "id": "m9ShXBedosbi"
      },
      "execution_count": null,
      "outputs": []
    },
    {
      "cell_type": "markdown",
      "source": [
        "Registro de Agrupamento"
      ],
      "metadata": {
        "id": "7xKPomWWp8OG"
      }
    },
    {
      "cell_type": "code",
      "source": [
        "SELECT primeiro_nome,sigla_estado,\n",
        "count(*)\n",
        "FROM pessoas\n",
        "GROUP BY primeiro_nome, sigla_estado"
      ],
      "metadata": {
        "id": "g48F8xIZp9LS"
      },
      "execution_count": null,
      "outputs": []
    },
    {
      "cell_type": "markdown",
      "source": [
        "MÉDIA"
      ],
      "metadata": {
        "id": "zQO--SYMq1FZ"
      }
    },
    {
      "cell_type": "code",
      "source": [
        "SELECT sigla_estado, AVG(qte_pontos)\n",
        "FROM pessoas\n",
        "GROUP BY sigla_estado"
      ],
      "metadata": {
        "id": "w9F1Bvnpq1Vv"
      },
      "execution_count": null,
      "outputs": []
    },
    {
      "cell_type": "markdown",
      "source": [],
      "metadata": {
        "id": "p6dEElMhrJKh"
      }
    },
    {
      "cell_type": "code",
      "source": [
        "SELECT sigla_estado, max(qte_pontos)\n",
        "FROM pessoas\n",
        "GROUP BY sigla_estado"
      ],
      "metadata": {
        "id": "YQFex6cIrJYg"
      },
      "execution_count": null,
      "outputs": []
    },
    {
      "cell_type": "markdown",
      "source": [],
      "metadata": {
        "id": "2BCkw3MCrJqi"
      }
    },
    {
      "cell_type": "code",
      "source": [
        "SELECT sigla_estado, MIN(qte_pontos)\n",
        "FROM pessoas\n",
        "GROUP BY sigla_estado"
      ],
      "metadata": {
        "id": "YZ1tqa4rrJ5H"
      },
      "execution_count": null,
      "outputs": []
    },
    {
      "cell_type": "markdown",
      "source": [],
      "metadata": {
        "id": "v1SeaOXNrKHY"
      }
    },
    {
      "cell_type": "code",
      "source": [],
      "metadata": {
        "id": "nZENo2A3rKUE"
      },
      "execution_count": null,
      "outputs": []
    }
  ]
}