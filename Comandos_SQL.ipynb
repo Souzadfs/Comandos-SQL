{
  "nbformat": 4,
  "nbformat_minor": 0,
  "metadata": {
    "colab": {
      "provenance": [],
      "authorship_tag": "ABX9TyPply+XAB2a8M0z7mbEw9hK",
      "include_colab_link": true
    },
    "kernelspec": {
      "name": "python3",
      "display_name": "Python 3"
    },
    "language_info": {
      "name": "python"
    }
  },
  "cells": [
    {
      "cell_type": "markdown",
      "metadata": {
        "id": "view-in-github",
        "colab_type": "text"
      },
      "source": [
        "<a href=\"https://colab.research.google.com/github/Souzadfs/Comandos-SQL/blob/main/Comandos_SQL.ipynb\" target=\"_parent\"><img src=\"https://colab.research.google.com/assets/colab-badge.svg\" alt=\"Open In Colab\"/></a>"
      ]
    },
    {
      "cell_type": "markdown",
      "source": [
        "# Comando **Join**"
      ],
      "metadata": {
        "id": "SyS_zst4k7iT"
      }
    },
    {
      "cell_type": "code",
      "execution_count": null,
      "metadata": {
        "id": "phlYn_m8klnv"
      },
      "outputs": [],
      "source": [
        "SELECT primeiro_nome, ultimo_nome,\n",
        "pessoas.sigla_estado, nome_estado\n",
        "FROM pessoas\n",
        "INNER JOIN estados\n",
        "ON pessoas.sigla_estado = estados.sigla_estado"
      ]
    }
  ]
}